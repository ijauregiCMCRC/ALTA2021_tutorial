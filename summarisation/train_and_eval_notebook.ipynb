{
 "cells": [
  {
   "cell_type": "markdown",
   "metadata": {
    "collapsed": true,
    "id": "IGwwxJ255V5M"
   },
   "source": [
    "# Summarisation Notebook\n",
    "\n",
    "In this notebook, we will be running a comparison between a standard BART model and a Longformer Encoder Decoder (LED) model. The idea of this comparison is to show the pros and cons of using a long-document transformer, versus a standard pre-trained language model.\n",
    "\n",
    "To run this notebook, you need to ensure that you have the appropriate virtual environment set up, and have installed the `requirements.txt` file located in `ALTA2021_tutorial/summarisation/`.\n",
    "\n",
    "In case you are unfamiliar with the models, the use of HuggingFace, or PyTorch Lightning, here are links below:\n",
    "\n",
    "* **BART**: https://aclanthology.org/2020.acl-main.703/\n",
    "* **Longformer Encoder Decoder**: https://arxiv.org/abs/2004.05150\n",
    "\n",
    "* **HuggingFace**: https://huggingface.co/\n",
    "* **PyTorch Lightning**: https://www.pytorchlightning.ai/"
   ]
  },
  {
   "cell_type": "markdown",
   "metadata": {},
   "source": [
    "### Setup\n",
    "#### (Only for  Google Colab Execution)\n",
    "\n",
    "If you are running the notebook in Google Colab, run the cell below to download the repository witht he required files to run the models and the requirements file."
   ]
  },
  {
   "cell_type": "code",
   "execution_count": null,
   "metadata": {},
   "outputs": [],
   "source": [
    "!git clone https://github.com/ijauregiCMCRC/ALTA2021_tutorial.git\n",
    "%cd ALTA2021_tutorial/summarisation"
   ]
  },
  {
   "cell_type": "markdown",
   "metadata": {},
   "source": [
    "#### Install requirements\n",
    "__Note__: You may have to re-start the runtime environment in Google Colab after\n",
    "installing the requried packages."
   ]
  },
  {
   "cell_type": "code",
   "execution_count": null,
   "metadata": {},
   "outputs": [],
   "source": [
    "!pip install -r requirements.txt"
   ]
  },
  {
   "cell_type": "markdown",
   "metadata": {
    "id": "CnnQWNi-5V5U"
   },
   "source": [
    "## Task 1\n",
    "Covers:\n",
    "- How to train and evaluate a `BART-base` and `LED-base` model.\n",
    "- Understand how to use the `pl.LightningModule` and`pl.Trainer`.\n",
    "- Understand the arguments required to define the model architecture and the model training.\n",
    "\n",
    "### 1.1 Import Packages"
   ]
  },
  {
   "cell_type": "code",
   "execution_count": null,
   "metadata": {
    "executionInfo": {
     "elapsed": 3943,
     "status": "ok",
     "timestamp": 1634884095358,
     "user": {
      "displayName": "Jacob Parnell",
      "photoUrl": "https://lh3.googleusercontent.com/a/default-user=s64",
      "userId": "02679095314711798196"
     },
     "user_tz": -660
    },
    "id": "KqditXaE5V5V"
   },
   "outputs": [],
   "source": [
    "import os\n",
    "os.getcwd()\n",
    "import random\n",
    "import numpy as np\n",
    "import textwrap  # for inference example\n",
    "from rouge_score import rouge_scorer  # for inference example\n",
    "\n",
    "import torch\n",
    "import pytorch_lightning as pl\n",
    "from pytorch_lightning.loggers import TestTubeLogger\n",
    "from pytorch_lightning.callbacks import ModelCheckpoint\n",
    "import nlp  # to load dataset\n",
    "\n",
    "from src.summarisation_lightning_model import LmForSummarisation"
   ]
  },
  {
   "cell_type": "markdown",
   "metadata": {
    "id": "FgNeGHZZ5V5X"
   },
   "source": [
    "### 1.2. Define Parameters\n",
    "\n",
    "Here we define a dictionary of arguments which we pass to the Lightning script when loading the model. These will differ depending on the model you use, and the task you are performing.\n",
    "\n",
    "For this tutorial, LED is an architecture that is built on top of BART's pre-trained model weights, so model-specific arguments will be very similar.\n",
    "\n",
    "The remainder of the arguments are set by default in the Trainer function in the following section, and are specific to PyTorch Lightning. "
   ]
  },
  {
   "cell_type": "code",
   "execution_count": null,
   "metadata": {
    "executionInfo": {
     "elapsed": 453,
     "status": "ok",
     "timestamp": 1634884099758,
     "user": {
      "displayName": "Jacob Parnell",
      "photoUrl": "https://lh3.googleusercontent.com/a/default-user=s64",
      "userId": "02679095314711798196"
     },
     "user_tz": -660
    },
    "id": "Q97ixQrl5V5Y"
   },
   "outputs": [],
   "source": [
    "args ={\n",
    "    'max_input_len': 512,  # Maximum number of tokens in the source documents, 512 for BART-base, 2048 for LED-base\n",
    "    'max_output_len': 256,  # Maximum number of tokens in the summary\n",
    "    'save_dir': '../models/summarisation_bart',  # Path to save the model and logs, 'models/summarisation_bart' for BART, 'models/summarisation_led' for LED\n",
    "    'tokenizer': 'facebook/bart-base',  # Pretrained tokenizer\n",
    "    'model_path': 'facebook/bart-base',  # Pretrained model (facebook/bart-base for BART, allenai/led-base-16384)\n",
    "    'label_smoothing': 0.0, # Label smoothing (not required)\n",
    "    'epochs': 1,  # Number of epochs during training\n",
    "    'batch_size': 4,  # Batch size (1 for LED, 4 for BART)\n",
    "    'grad_accum': 1,  # Gradient accumulation (4 for LED for effective batch size, 1 for BART to keep consistent)\n",
    "    'lr': 0.00003,  # Training learning rate\n",
    "    'warmup': 1000,  # Number of warmup steps\n",
    "    'gpus': 1,  # Number of gpus. 0 for CPU\n",
    "    'precision': 16,  # Double precision (64), full precision (32) \n",
    "                      # or half precision (16). Can be used on CPU, GPU or TPUs.\n",
    "    'cache_dir': '../datasets/cache/', # Path to dataset cache where dataset is converted\n",
    "    'attention_dropout': 0.1,  # default\n",
    "    'adafactor': True,  # use Adafactor optimizer, else Adam\n",
    "    'debug': False,  # debug run\n",
    "    'num_workers': 0,  # number of data loader workers\n",
    "    'grad_ckpt': True,  # gradient checkpointing to save memory\n",
    "    'attention_mode': 'sliding_chunks',  # Longformer attention mode\n",
    "    'attention_window': 512  # Longformer attention window\n",
    "}"
   ]
  },
  {
   "cell_type": "markdown",
   "metadata": {
    "id": "MPQx19VA5V5Z"
   },
   "source": [
    "### 1.3. Initialize Lightning Module\n",
    "\n",
    "In this section, we load the model and dataset we choose to use. In this instance, we are loading a dataset that is stored on the HuggingFace Datasets repository. If you have your own dataset you wish to use for training and testing, please review the link <a href=\"https://huggingface.co/docs/datasets/\" target=\"_blank\">here</a>.\n",
    "\n",
    "- We initialize the random, numpy, torch and cuda with the same seed.\n",
    "- We initialize our custom LightningModule (`LmForSummarisation`).\n",
    "- We initialize the logger to capture training information.\n",
    "- We create a checkpointing callback to save the best model during training.\n",
    "- We define the Pytorch Lightning trainer."
   ]
  },
  {
   "cell_type": "code",
   "execution_count": null,
   "metadata": {
    "colab": {
     "base_uri": "https://localhost:8080/",
     "height": 351
    },
    "executionInfo": {
     "elapsed": 9027,
     "status": "error",
     "timestamp": 1634884111302,
     "user": {
      "displayName": "Jacob Parnell",
      "photoUrl": "https://lh3.googleusercontent.com/a/default-user=s64",
      "userId": "02679095314711798196"
     },
     "user_tz": -660
    },
    "id": "h6PFCu-b5V5Z",
    "outputId": "15da685c-dbd3-4fc6-cd5f-3be1a9c79845",
    "scrolled": false
   },
   "outputs": [],
   "source": [
    "# Initialize with a seed\n",
    "seed = 1234\n",
    "random.seed(seed)\n",
    "np.random.seed(seed)\n",
    "torch.manual_seed(seed)\n",
    "if torch.cuda.is_available():\n",
    "    torch.cuda.manual_seed_all(seed)\n",
    "\n",
    "# Define PyTorch Lightning model\n",
    "model = LmForSummarisation(args)\n",
    "# Include datasets\n",
    "model.hf_datasets = nlp.load_dataset('multi_news', cache_dir=args['cache_dir'])\n",
    "\n",
    "# Dataset size - needed to compute number of steps for the lr scheduler\n",
    "# Sum of training and validation data\n",
    "args['dataset_size'] = model.hf_datasets['train'].num_rows + model.hf_datasets['validation'].num_rows\n",
    "\n",
    "# Define logger\n",
    "logger = TestTubeLogger(\n",
    "    save_dir=args['save_dir'],\n",
    "    name='training',\n",
    "    version=0  # always use version=0\n",
    ")\n",
    "\n",
    "# Define checkpoint saver\n",
    "checkpoint_callback = ModelCheckpoint(\n",
    "    dirpath=os.path.join(args['save_dir'], \"training\", \"checkpoints\"),  # Dir path\n",
    "    filename='check-{epoch:02d}-{validation_loss:.2f}',\n",
    "    save_top_k=1,\n",
    "    verbose=True,\n",
    "    monitor='validation_loss',\n",
    "    mode='min',\n",
    "    period=1\n",
    ")\n",
    "\n",
    "print(args)\n",
    "\n",
    "\n",
    "# Define lightning trainer\n",
    "trainer = pl.Trainer(gpus=args['gpus'], distributed_backend='dp' if torch.cuda.is_available() else None,\n",
    "                     track_grad_norm=-1,\n",
    "                     max_epochs=args['epochs'],\n",
    "                     max_steps=None,\n",
    "                     replace_sampler_ddp=False,\n",
    "                     accumulate_grad_batches=args['grad_accum'],\n",
    "                     gradient_clip_val=1.0,  # Max grad_norm\n",
    "                     val_check_interval=1.0,  # Num steps between validation\n",
    "                     num_sanity_val_steps=2,  # Validation steps for sanity check\n",
    "                     check_val_every_n_epoch=1,  # Check validation every N\n",
    "                     logger=logger,\n",
    "                     callbacks=checkpoint_callback,\n",
    "                     progress_bar_refresh_rate=10,  # Progress bar for printing (updates every N)\n",
    "                     precision=args['precision'],\n",
    "                     amp_backend='native', amp_level='O2'\n",
    "                     )"
   ]
  },
  {
   "cell_type": "markdown",
   "metadata": {
    "id": "YYOshGw25V5c"
   },
   "source": [
    "### 1.4. Train Model\n",
    "\n",
    "In this section and the following, we look to train the BART or LED model, and evaluate it over a test set. A few points to note about the comparison between the two models:\n",
    "\n",
    "* Training time will differ significantly - this is due to the amount of information that either model will need to process. Despite linear attention alleviating quadratic memory complexity, and allowing LED to fit in memory, processing much more data will take longer to train compared to BART.\n",
    "\n",
    "* We have chosen to showcase a fraction of the power of BART and LED, by restricting their input lengths to 512 and 2048 tokens respectively. This is merely to facilitate the training and testing process. It is worth reminding that LED can process up to 16x the maximum input length of BART (16384 vs. 1024 tokens).\n",
    "\n",
    "* ROUGE score improvements here are modest, but will increase significantly with longer training times, adequate selection of hyperparameters (e.g. increasing input length, batch size), and the use of the -large variants of these models.\n",
    "\n",
    "* Summarisation is a computationally heavy task, and can often require a GPU with quite large RAM to utilise the full benefits of either model.\n",
    "\n",
    "Simply call `trainer.fit()` with your lightning model and the training will start."
   ]
  },
  {
   "cell_type": "code",
   "execution_count": null,
   "metadata": {
    "colab": {
     "base_uri": "https://localhost:8080/",
     "height": 390,
     "referenced_widgets": [
      "9c6c841f982b462285ae2503d20215ea",
      "24b3509be66b44618158d669a2b45fe3",
      "12645c3cc1574d50be92ff42bee9031e",
      "b0d47eddc9924df2b2be802deec035eb",
      "e895ffb10bae42a2a2884a296b0de756",
      "ed55bc6e0f884f9c9ea034c571ed8488",
      "f998509d191c4e55aa96bd6fdbd0f576",
      "8162357e8e104df2838d1e5b1899bbec",
      "ba520a87665a46f99ed57f9f993ad2b5",
      "03e26d56cd714bfb869f777350c73776",
      "747bda1714a643f9b6cb31ab523c3887",
      "1fb5b1e0b38c40afb50476ee0ae79cf3",
      "6b4dce5f599349f99ab9a917c2b29e3a",
      "6f964a9e67bf40a4ba9c08a66c447e11",
      "e14c3b49f2914777a5f7affb65c08571",
      "edfa3910f40c463ab4bb2c92c1a7a1c9",
      "4b8f7c42658042fa8e4933491c0e4114",
      "4ec033a2c2134231abfd7a07f126d071",
      "1e2aa15892224f4fa53b8f4686d1526f",
      "36e2d16e412046e590e53fe2ee0b15d1",
      "3f331cc3bfba4205ad8ee1a0371817f7",
      "9034b1352a314bf1899d3ce712a27b51"
     ]
    },
    "executionInfo": {
     "elapsed": 102831,
     "status": "ok",
     "timestamp": 1634884059440,
     "user": {
      "displayName": "Jacob Parnell",
      "photoUrl": "https://lh3.googleusercontent.com/a/default-user=s64",
      "userId": "02679095314711798196"
     },
     "user_tz": -660
    },
    "id": "7HImZnub5V5d",
    "outputId": "d49573c7-c4da-443d-db0f-27bed8453b08",
    "scrolled": false
   },
   "outputs": [],
   "source": [
    "# Train model\n",
    "trainer.fit(model)"
   ]
  },
  {
   "cell_type": "markdown",
   "metadata": {
    "id": "FGBKK0zS5V5e"
   },
   "source": [
    "### 1.5. Test Model"
   ]
  },
  {
   "cell_type": "code",
   "execution_count": null,
   "metadata": {
    "id": "Js2Z4IMP5V5f"
   },
   "outputs": [],
   "source": [
    "# Test model\n",
    "trainer.test(model)"
   ]
  },
  {
   "cell_type": "code",
   "execution_count": null,
   "metadata": {},
   "outputs": [],
   "source": [
    "BART_valscores = [0, 0, 0]\n",
    "LED_valscores = [0, 0, 0]\n",
    "print(f'BART Val Scores: {BART_valscores[0]} / {BART_valscores[1]} / {BART_valscores[2]}')\n",
    "print(f'LED Val Scores: {LED_valscores[0]} / {LED_valscores[1]} / {LED_valscores[2]}')\n",
    "\n",
    "print()\n",
    "\n",
    "BART_testscores = [0, 0, 0]\n",
    "LED_testscores = [0, 0, 0]\n",
    "print(f'BART Test Scores: {BART_testscores[0]} / {BART_testscores[1]} / {BART_testscores[2]}')\n",
    "print(f'LED Test Scores: {LED_testscores[0]} / {LED_testscores[1]} / {LED_testscores[2]}')"
   ]
  },
  {
   "cell_type": "markdown",
   "metadata": {
    "id": "ecM0JA0y5V5f"
   },
   "source": [
    "## Task 2: Comparing Models\n",
    "- Compare different summarisation models that have been previously trained by us with the same code and same dataset.\n",
    "\n",
    "### Our Models:\n",
    "- __BART_base__:\n",
    "    - Tokenizer and model: `facebook/bart-base` ([Huggingface link](https://huggingface.co/facebook/bart-base))\n",
    "- __Longformer_Encoder_Decoder_base__:\n",
    "    - Tokenizer and model: `facebook/bart-base` + `allenai/led-base-16384` ([Huggingface link](https://huggingface.co/allenai/led-base-16384))\n",
    "    \n",
    "### 2.1. Inference\n",
    "\n",
    "In this final section, we will load the trained model from the its saved directory and use it purely for inference. We can compare empirically the benefit of using a long-document Transformer such as LED for document summarisation."
   ]
  },
  {
   "cell_type": "markdown",
   "metadata": {
    "colab": {
     "base_uri": "https://localhost:8080/"
    },
    "executionInfo": {
     "elapsed": 475,
     "status": "ok",
     "timestamp": 1634881474310,
     "user": {
      "displayName": "Jacob Parnell",
      "photoUrl": "https://lh3.googleusercontent.com/a/default-user=s64",
      "userId": "02679095314711798196"
     },
     "user_tz": -660
    },
    "id": "QzWp78cp5V5g",
    "outputId": "bae3097b-8bc0-4dbf-f0e6-86e1a9c2f36d",
    "scrolled": false
   },
   "source": [
    "#### Document Example"
   ]
  },
  {
   "cell_type": "code",
   "execution_count": null,
   "metadata": {
    "scrolled": false
   },
   "outputs": [],
   "source": [
    "# Example from Multi-News\n",
    "document = 'GOP Eyes Gains As Voters In 11 States Pick Governors      Enlarge this image toggle caption Jim Cole/AP Jim Cole/AP      Voters in 11 states will pick their governors tonight, and Republicans appear on track to increase their numbers by at least one, with the potential to extend their hold to more than two-thirds of the nation\\'s top state offices.      Eight of the gubernatorial seats up for grabs are now held by Democrats; three are in Republican hands. Republicans currently hold 29 governorships, Democrats have 20, and Rhode Island\\'s Gov. Lincoln Chafee is an Independent.      Polls and race analysts suggest that only three of tonight\\'s contests are considered competitive, all in states where incumbent Democratic governors aren\\'t running again: Montana, New Hampshire and Washington.      While those state races remain too close to call, Republicans are expected to wrest the North Carolina governorship from Democratic control, and to easily win GOP-held seats in Utah, North Dakota and Indiana.      Democrats are likely to hold on to their seats in West Virginia and Missouri, and are expected to notch safe wins in races for seats they hold in Vermont and Delaware.      Holding Sway On Health Care      While the occupant of the governor\\'s office is historically far less important than the party that controls the state legislature, top state officials in coming years are expected to wield significant influence in at least one major area.      And that\\'s health care, says political scientist Thad Kousser, co-author of The Power of American Governors.      \"No matter who wins the presidency, national politics is going to be stalemated on the Affordable Care Act,\" says Kousser, of the University of California, San Diego.      A recent U.S. Supreme Court decision giving states the ability to opt out of the law\\'s expansion of Medicaid, the federal insurance program for poor, disabled and elderly Americans, confers \"incredible power\" on the states and their governors, Kousser says.      Just look at what happened when the Obama administration in 2010 offered federal stimulus money to states to begin building a high-speed rail network. Three Republican governors, including Rick Scott of Florida and Scott Walker of Wisconsin, rejected a share of the money citing debt and deficit concerns.      \"A [Mitt] Romney victory would dramatically empower Republican governors,\" Kousser says.      State-By-State View      North Carolina: One-term incumbent Democratic Gov. Beverly Perdue, the first woman to hold the state\\'s top office, announced in January that she would not seek re-election after polls showed her with high disapproval ratings and trailing Republican candidate Pat McCrory.      The seat is expected to be won by McCrory, a former Charlotte mayor, who is facing Perdue\\'s lieutenant governor, Walter Dalton. McCrory lost a close race to Perdue in 2008, when then-presidential candidate Barack Obama became the first Democrat to win North Carolina in more than three decades. The Real Clear Politics average for the race has McCrory maintaining a 14.3 percentage point lead.      Montana: Popular Democratic Gov. Brian Schweitzer — he won his last election with 65 percent of the vote — has reached his two-term limit. The state\\'s Democratic Attorney General Steve Bullock is trying to keep the seat in his party\\'s column by associating himself with Schweitzer\\'s legacy. He\\'s in a tough race with former two-term GOP Rep. Rick Hill.      New Hampshire: Former Democratic state Sen. Maggie Hassan has also promised a continuation of the policies of her predecessor, retiring Democratic Gov. John Lynch. Her opponent is lawyer Ovide Lamontagne, a Tea Party conservative who ran unsuccessfully for governor in 1996 and for the U.S. Senate in 2010. The national parties have invested in the campaigns, which have focused on fiscal and women\\'s health care issues.      Washington: The state\\'s governorship has been in Democratic hands for 32 years, and former U.S. Rep. Jay Inslee is in a dead-heat battle to keep it that way. His opponent is the state\\'s Republican Attorney General Rob McKenna. McKenna has a proven ability to win statewide, but working in Inslee\\'s favor are Obama\\'s poll numbers. The Real Clear Politics average shows Obama with an average 13.6 percentage point lead over Romney; Inslee is leading McKenna by an average of 1 percentage point.      Pretty Much Sure Things      Republican Govs. Jack Dalrymple in North Dakota and Gary Herbert in Utah, and GOP Rep. Mike Pence in Indiana are expected to win. So are Democratic Govs. Peter Shumlin in Vermont and Jack Markell in Delaware.      Democrats are also hoping to hold on to the governorship in Missouri, where Jay Nixon is running for a second term against Republican Dave Spence; and in West Virginia, where Gov. Earl Ray Tomblin, former state senate president, is running for his first full term after winning a special election in 2011. GOP businessman Bill Maloney is his opponent, as he was last year.      Nixon has been consistently outpolling Spence by an average of about 7 points in Missouri. Tomblin is seen as likely to retain his seat, even in a state where Romney is leading Obama by double digits. ||||| GOP Eyes Gains As Voters In 11 States Pick Governors      Jim Cole / AP i Jim Cole / AP      Voters in 11 states will pick their governors tonight, and Republicans appear on track to increase their numbers by at least one, and with the potential to extend their hold to more than two-thirds of the nation\\'s top state offices.      Eight of the gubernatorial seats up for grabs today are now held by Democrats; three are in Republican hands. Republicans currently hold 29 governorships, Democrats have 20; and Rhode Island\\'s Gov. Lincoln Chafee is an Independent.      Polls and race analysts suggest that only three of tonight\\'s contests are considered competitive, all in states where incumbent Democratic governors aren\\'t running again: Montana, New Hampshire and Washington.      While those state races remain too close to call, Republicans are expected to wrest the North Carolina governorship from Democratic control, and to easily win GOP-held seats in Utah, North Dakota and Indiana.      Democrats are likely hold on to their seats in West Virginia and Missouri; and expected to notch safe wins in races for seats they hold in Vermont and Delaware.      Holding Sway On Health Care      While the occupant of the governor\\'s office is historically far less important than the party that controls the state legislature, top state officials in coming years are expected to wield significant influence in at least one major area.      And that\\'s health care, says political scientist Thad Kousser, co-author of The Power of American Governors.      \"No matter who wins the presidency, national politics is going to be stalemated on the Affordable Care Act,\" says Kousser, of the University of California-Berkeley.      A recent U.S. Supreme Court decision giving states the ability to opt out of the law\\'s expansion of Medicaid, the federal insurance program for poor, disabled and elderly Americans, confers \"incredible power\" on the states and their governors, Kousser says.      Just look at what happened when the Obama administration in 2010 offered federal stimulus money to states to begin building a high-speed rail network. Three Republican governors, including Rick Scott of Florida and Scott Walker of Wisconsin, rejected a share of the money citing debt and deficit concerns.      \"A [Mitt] Romney victory would dramatically empower Republican governors,\" Kousser says.      State-by-State View      North Carolina: One-term incumbent Democratic Gov. Beverly Perdue, the first woman to hold the state\\'s top office, announced in January she would not seek re-election after polls showed her with high disapproval ratings and trailing Republican candidate Pat McCrory.      The seat is expected to be won by McCrory, a former Charlotte mayor, who is facing Perdue\\'s lieutenant governor, Walter Dalton. McCrory lost a close race to Perdue in 2008, when then-presidential candidate Barack Obama became the first Democrat to win North Carolina in more than three decades. The Real Clear Politics average for the race has McCrory maintaining a 14.3 percentage point lead.      Montana: Popular Democratic Gov. Brian Schweitzer — he won his last election with 65 percent of the vote — has reached his two-term limit. The state\\'s Democratic Attorney General Steve Bullock is trying to keep the seat in his party\\'s column by associating himself with Schweitzer\\'s legacy. He\\'s in a tough race with former two-term GOP Rep. Rick Hill.      New Hampshire: Former Democratic state Sen. Maggie Hassan has also promised a continuation of the policies of her predecessor, retiring Democratic Gov. John Lynch. Her opponent is lawyer Ovide Lamontagne, a Tea Party conservative who ran unsuccessfully for governor in 1996 and for the U.S. Senate in 2010. The national parties have invested in the campaigns, which have focused on fiscal and women\\'s health care issues.      Washington: The state\\'s governorship has been in Democratic hands for 32 years, and former Rep. Jay Inslee is in a dead-heat battle to keep it that way. His opponent is the state\\'s Republican Attorney General Rob McKenna. McKenna has a proven ability to win statewide, but working in Inslee\\'s favor are Obama\\'s poll numbers. The Real Clear Politics average shows Obama with an average 13.6 point lead over Romney; Inslee\\'s leading McKenna by an average of 1 percentage point.      Pretty Much Sure Things      Republican governors Jack Dalrymple in North Dakota and Gary Herbert in Utah, and GOP Rep. Mike Pence in Indiana are expected to win. So are Democratic governors Peter Shumlin in Vermont and Jack Markell in Delaware.      Democrats are also hoping to hold on to the governorship in Missouri, where Jay Nixon is running for a second term against Republican Dave Spence; and in West Virginia, where Gov. Earl Ray Tomblin, former state senate president, is running for his first full term after willing a special election in 2011. GOP businessman Bill Maloney is his opponent, as he was last year.      Nixon has been consistently out-polling Spence by an average of about 7 points in Missouri. Tomblin is seen as likely to retain his seat, even in a state where Romney is leading Obama by double digits. |||||'\n",
    "ground_truth = '– It\\'s a race for the governor\\'s mansion in 11 states today, and the GOP could end the night at the helm of more than two-thirds of the 50 states. The GOP currently controls 29 of the country\\'s top state offices; it\\'s expected to keep the three Republican ones that are up for grabs (Utah, North Dakota, and Indiana), and wrest North Carolina from the Dems. That brings its toll to 30, with the potential to take three more, reports NPR. Races in Montana, New Hampshire, and Washington are still too close to call, and in all three, Democrat incumbents aren\\'t seeking reelection. The results could have a big impact on health care, since a Supreme Court ruling grants states the ability to opt out of ObamaCare\\'s Medicaid expansion. \"A Romney victory would dramatically empower Republican governors,\" said one analyst. Click for NPR\\'s state-by-state breakdown of what could happen.'\n",
    "print(textwrap.fill(ground_truth, 100))"
   ]
  },
  {
   "cell_type": "code",
   "execution_count": null,
   "metadata": {},
   "outputs": [],
   "source": [
    "# Load ROUGE Scorer\n",
    "scorer = rouge_scorer.RougeScorer(rouge_types=['rouge1', 'rouge2', 'rougeL', 'rougeLsum'], use_stemmer=False)"
   ]
  },
  {
   "cell_type": "markdown",
   "metadata": {},
   "source": [
    "#### Load BART Model"
   ]
  },
  {
   "cell_type": "code",
   "execution_count": null,
   "metadata": {},
   "outputs": [],
   "source": [
    "!ls ../models/summarisation_bart/training/checkpoints/"
   ]
  },
  {
   "cell_type": "code",
   "execution_count": null,
   "metadata": {},
   "outputs": [],
   "source": [
    "# Define PyTorch Lightning model\n",
    "bart_model = LmForSummarisation.load_from_checkpoint('../models/summarisation_bart/training/checkpoints/check-epoch=00-validation_loss=.ckpt')"
   ]
  },
  {
   "cell_type": "code",
   "execution_count": null,
   "metadata": {
    "colab": {
     "base_uri": "https://localhost:8080/"
    },
    "executionInfo": {
     "elapsed": 14225,
     "status": "ok",
     "timestamp": 1634881490536,
     "user": {
      "displayName": "Jacob Parnell",
      "photoUrl": "https://lh3.googleusercontent.com/a/default-user=s64",
      "userId": "02679095314711798196"
     },
     "user_tz": -660
    },
    "id": "3MwxVVYn5V5h",
    "outputId": "4811c107-1998-4247-f3fc-feb70a15d16b"
   },
   "outputs": [],
   "source": [
    "bart_summary = bart_model.summarise_example(document)\n",
    "print(textwrap.fill(bart_summary[0], 100))"
   ]
  },
  {
   "cell_type": "code",
   "execution_count": null,
   "metadata": {},
   "outputs": [],
   "source": [
    "# ROUGE score\n",
    "score = scorer.score(ground_truth, bart_summary[0])\n",
    "\n",
    "print('ROUGE-1: ', score['rouge1'].fmeasure*100)\n",
    "print('ROUGE-2: ', score['rouge2'].fmeasure*100)\n",
    "print('ROUGE-L: ', score['rougeL'].fmeasure*100)"
   ]
  },
  {
   "cell_type": "markdown",
   "metadata": {},
   "source": [
    "#### Load LED Model"
   ]
  },
  {
   "cell_type": "code",
   "execution_count": null,
   "metadata": {},
   "outputs": [],
   "source": [
    "!ls ../models/summarisation_led/training/checkpoints/"
   ]
  },
  {
   "cell_type": "code",
   "execution_count": null,
   "metadata": {},
   "outputs": [],
   "source": [
    "# Define PyTorch Lightning model\n",
    "led_model = LmForSummarisation.load_from_checkpoint('../models/summarisation_led/training/checkpoints/check-epoch=00-validation_loss=.ckpt')"
   ]
  },
  {
   "cell_type": "code",
   "execution_count": null,
   "metadata": {},
   "outputs": [],
   "source": [
    "led_summary = led_model.summarise_example(document)\n",
    "print(textwrap.fill(led_summary[0], 100))"
   ]
  },
  {
   "cell_type": "code",
   "execution_count": null,
   "metadata": {},
   "outputs": [],
   "source": [
    "# ROUGE score\n",
    "score = scorer.score(ground_truth, led_summary[0])\n",
    "\n",
    "print('ROUGE-1: ', score['rouge1'].fmeasure*100)\n",
    "print('ROUGE-2: ', score['rouge2'].fmeasure*100)\n",
    "print('ROUGE-L: ', score['rougeL'].fmeasure*100)"
   ]
  },
  {
   "cell_type": "markdown",
   "metadata": {},
   "source": [
    "#### Well done!\n",
    "\n",
    "You have reached the end of the summarisation notebook. Now feel free to change and play with it as much as you like\n",
    "(hyperparameters, datasets, models...). Have fun training your own summarisation models!"
   ]
  },
  {
   "cell_type": "code",
   "execution_count": null,
   "metadata": {},
   "outputs": [],
   "source": []
  }
 ],
 "metadata": {
  "accelerator": "GPU",
  "colab": {
   "collapsed_sections": [],
   "name": "train_and_eval_notebook.ipynb",
   "provenance": []
  },
  "kernelspec": {
   "display_name": "Python 3",
   "language": "python",
   "name": "python3"
  },
  "language_info": {
   "codemirror_mode": {
    "name": "ipython",
    "version": 3
   },
   "file_extension": ".py",
   "mimetype": "text/x-python",
   "name": "python",
   "nbconvert_exporter": "python",
   "pygments_lexer": "ipython3",
   "version": "3.6.8"
  },
  "widgets": {
   "application/vnd.jupyter.widget-state+json": {
    "03e26d56cd714bfb869f777350c73776": {
     "model_module": "@jupyter-widgets/controls",
     "model_module_version": "1.5.0",
     "model_name": "DescriptionStyleModel",
     "state": {
      "_model_module": "@jupyter-widgets/controls",
      "_model_module_version": "1.5.0",
      "_model_name": "DescriptionStyleModel",
      "_view_count": null,
      "_view_module": "@jupyter-widgets/base",
      "_view_module_version": "1.2.0",
      "_view_name": "StyleView",
      "description_width": ""
     }
    },
    "12645c3cc1574d50be92ff42bee9031e": {
     "model_module": "@jupyter-widgets/controls",
     "model_module_version": "1.5.0",
     "model_name": "HTMLModel",
     "state": {
      "_dom_classes": [],
      "_model_module": "@jupyter-widgets/controls",
      "_model_module_version": "1.5.0",
      "_model_name": "HTMLModel",
      "_view_count": null,
      "_view_module": "@jupyter-widgets/controls",
      "_view_module_version": "1.5.0",
      "_view_name": "HTMLView",
      "description": "",
      "description_tooltip": null,
      "layout": "IPY_MODEL_f998509d191c4e55aa96bd6fdbd0f576",
      "placeholder": "​",
      "style": "IPY_MODEL_ed55bc6e0f884f9c9ea034c571ed8488",
      "value": "Validation sanity check:   0%"
     }
    },
    "1e2aa15892224f4fa53b8f4686d1526f": {
     "model_module": "@jupyter-widgets/controls",
     "model_module_version": "1.5.0",
     "model_name": "ProgressStyleModel",
     "state": {
      "_model_module": "@jupyter-widgets/controls",
      "_model_module_version": "1.5.0",
      "_model_name": "ProgressStyleModel",
      "_view_count": null,
      "_view_module": "@jupyter-widgets/base",
      "_view_module_version": "1.2.0",
      "_view_name": "StyleView",
      "bar_color": null,
      "description_width": ""
     }
    },
    "1fb5b1e0b38c40afb50476ee0ae79cf3": {
     "model_module": "@jupyter-widgets/controls",
     "model_module_version": "1.5.0",
     "model_name": "HBoxModel",
     "state": {
      "_dom_classes": [],
      "_model_module": "@jupyter-widgets/controls",
      "_model_module_version": "1.5.0",
      "_model_name": "HBoxModel",
      "_view_count": null,
      "_view_module": "@jupyter-widgets/controls",
      "_view_module_version": "1.5.0",
      "_view_name": "HBoxView",
      "box_style": "",
      "children": [
       "IPY_MODEL_6f964a9e67bf40a4ba9c08a66c447e11",
       "IPY_MODEL_e14c3b49f2914777a5f7affb65c08571",
       "IPY_MODEL_edfa3910f40c463ab4bb2c92c1a7a1c9"
      ],
      "layout": "IPY_MODEL_6b4dce5f599349f99ab9a917c2b29e3a"
     }
    },
    "24b3509be66b44618158d669a2b45fe3": {
     "model_module": "@jupyter-widgets/base",
     "model_module_version": "1.2.0",
     "model_name": "LayoutModel",
     "state": {
      "_model_module": "@jupyter-widgets/base",
      "_model_module_version": "1.2.0",
      "_model_name": "LayoutModel",
      "_view_count": null,
      "_view_module": "@jupyter-widgets/base",
      "_view_module_version": "1.2.0",
      "_view_name": "LayoutView",
      "align_content": null,
      "align_items": null,
      "align_self": null,
      "border": null,
      "bottom": null,
      "display": "inline-flex",
      "flex": null,
      "flex_flow": "row wrap",
      "grid_area": null,
      "grid_auto_columns": null,
      "grid_auto_flow": null,
      "grid_auto_rows": null,
      "grid_column": null,
      "grid_gap": null,
      "grid_row": null,
      "grid_template_areas": null,
      "grid_template_columns": null,
      "grid_template_rows": null,
      "height": null,
      "justify_content": null,
      "justify_items": null,
      "left": null,
      "margin": null,
      "max_height": null,
      "max_width": null,
      "min_height": null,
      "min_width": null,
      "object_fit": null,
      "object_position": null,
      "order": null,
      "overflow": null,
      "overflow_x": null,
      "overflow_y": null,
      "padding": null,
      "right": null,
      "top": null,
      "visibility": null,
      "width": "100%"
     }
    },
    "36e2d16e412046e590e53fe2ee0b15d1": {
     "model_module": "@jupyter-widgets/base",
     "model_module_version": "1.2.0",
     "model_name": "LayoutModel",
     "state": {
      "_model_module": "@jupyter-widgets/base",
      "_model_module_version": "1.2.0",
      "_model_name": "LayoutModel",
      "_view_count": null,
      "_view_module": "@jupyter-widgets/base",
      "_view_module_version": "1.2.0",
      "_view_name": "LayoutView",
      "align_content": null,
      "align_items": null,
      "align_self": null,
      "border": null,
      "bottom": null,
      "display": null,
      "flex": "2",
      "flex_flow": null,
      "grid_area": null,
      "grid_auto_columns": null,
      "grid_auto_flow": null,
      "grid_auto_rows": null,
      "grid_column": null,
      "grid_gap": null,
      "grid_row": null,
      "grid_template_areas": null,
      "grid_template_columns": null,
      "grid_template_rows": null,
      "height": null,
      "justify_content": null,
      "justify_items": null,
      "left": null,
      "margin": null,
      "max_height": null,
      "max_width": null,
      "min_height": null,
      "min_width": null,
      "object_fit": null,
      "object_position": null,
      "order": null,
      "overflow": null,
      "overflow_x": null,
      "overflow_y": null,
      "padding": null,
      "right": null,
      "top": null,
      "visibility": null,
      "width": null
     }
    },
    "3f331cc3bfba4205ad8ee1a0371817f7": {
     "model_module": "@jupyter-widgets/controls",
     "model_module_version": "1.5.0",
     "model_name": "DescriptionStyleModel",
     "state": {
      "_model_module": "@jupyter-widgets/controls",
      "_model_module_version": "1.5.0",
      "_model_name": "DescriptionStyleModel",
      "_view_count": null,
      "_view_module": "@jupyter-widgets/base",
      "_view_module_version": "1.2.0",
      "_view_name": "StyleView",
      "description_width": ""
     }
    },
    "4b8f7c42658042fa8e4933491c0e4114": {
     "model_module": "@jupyter-widgets/controls",
     "model_module_version": "1.5.0",
     "model_name": "DescriptionStyleModel",
     "state": {
      "_model_module": "@jupyter-widgets/controls",
      "_model_module_version": "1.5.0",
      "_model_name": "DescriptionStyleModel",
      "_view_count": null,
      "_view_module": "@jupyter-widgets/base",
      "_view_module_version": "1.2.0",
      "_view_name": "StyleView",
      "description_width": ""
     }
    },
    "4ec033a2c2134231abfd7a07f126d071": {
     "model_module": "@jupyter-widgets/base",
     "model_module_version": "1.2.0",
     "model_name": "LayoutModel",
     "state": {
      "_model_module": "@jupyter-widgets/base",
      "_model_module_version": "1.2.0",
      "_model_name": "LayoutModel",
      "_view_count": null,
      "_view_module": "@jupyter-widgets/base",
      "_view_module_version": "1.2.0",
      "_view_name": "LayoutView",
      "align_content": null,
      "align_items": null,
      "align_self": null,
      "border": null,
      "bottom": null,
      "display": null,
      "flex": null,
      "flex_flow": null,
      "grid_area": null,
      "grid_auto_columns": null,
      "grid_auto_flow": null,
      "grid_auto_rows": null,
      "grid_column": null,
      "grid_gap": null,
      "grid_row": null,
      "grid_template_areas": null,
      "grid_template_columns": null,
      "grid_template_rows": null,
      "height": null,
      "justify_content": null,
      "justify_items": null,
      "left": null,
      "margin": null,
      "max_height": null,
      "max_width": null,
      "min_height": null,
      "min_width": null,
      "object_fit": null,
      "object_position": null,
      "order": null,
      "overflow": null,
      "overflow_x": null,
      "overflow_y": null,
      "padding": null,
      "right": null,
      "top": null,
      "visibility": null,
      "width": null
     }
    },
    "6b4dce5f599349f99ab9a917c2b29e3a": {
     "model_module": "@jupyter-widgets/base",
     "model_module_version": "1.2.0",
     "model_name": "LayoutModel",
     "state": {
      "_model_module": "@jupyter-widgets/base",
      "_model_module_version": "1.2.0",
      "_model_name": "LayoutModel",
      "_view_count": null,
      "_view_module": "@jupyter-widgets/base",
      "_view_module_version": "1.2.0",
      "_view_name": "LayoutView",
      "align_content": null,
      "align_items": null,
      "align_self": null,
      "border": null,
      "bottom": null,
      "display": "inline-flex",
      "flex": null,
      "flex_flow": "row wrap",
      "grid_area": null,
      "grid_auto_columns": null,
      "grid_auto_flow": null,
      "grid_auto_rows": null,
      "grid_column": null,
      "grid_gap": null,
      "grid_row": null,
      "grid_template_areas": null,
      "grid_template_columns": null,
      "grid_template_rows": null,
      "height": null,
      "justify_content": null,
      "justify_items": null,
      "left": null,
      "margin": null,
      "max_height": null,
      "max_width": null,
      "min_height": null,
      "min_width": null,
      "object_fit": null,
      "object_position": null,
      "order": null,
      "overflow": null,
      "overflow_x": null,
      "overflow_y": null,
      "padding": null,
      "right": null,
      "top": null,
      "visibility": null,
      "width": "100%"
     }
    },
    "6f964a9e67bf40a4ba9c08a66c447e11": {
     "model_module": "@jupyter-widgets/controls",
     "model_module_version": "1.5.0",
     "model_name": "HTMLModel",
     "state": {
      "_dom_classes": [],
      "_model_module": "@jupyter-widgets/controls",
      "_model_module_version": "1.5.0",
      "_model_name": "HTMLModel",
      "_view_count": null,
      "_view_module": "@jupyter-widgets/controls",
      "_view_module_version": "1.5.0",
      "_view_name": "HTMLView",
      "description": "",
      "description_tooltip": null,
      "layout": "IPY_MODEL_4ec033a2c2134231abfd7a07f126d071",
      "placeholder": "​",
      "style": "IPY_MODEL_4b8f7c42658042fa8e4933491c0e4114",
      "value": "Epoch 0:   0%"
     }
    },
    "747bda1714a643f9b6cb31ab523c3887": {
     "model_module": "@jupyter-widgets/base",
     "model_module_version": "1.2.0",
     "model_name": "LayoutModel",
     "state": {
      "_model_module": "@jupyter-widgets/base",
      "_model_module_version": "1.2.0",
      "_model_name": "LayoutModel",
      "_view_count": null,
      "_view_module": "@jupyter-widgets/base",
      "_view_module_version": "1.2.0",
      "_view_name": "LayoutView",
      "align_content": null,
      "align_items": null,
      "align_self": null,
      "border": null,
      "bottom": null,
      "display": null,
      "flex": null,
      "flex_flow": null,
      "grid_area": null,
      "grid_auto_columns": null,
      "grid_auto_flow": null,
      "grid_auto_rows": null,
      "grid_column": null,
      "grid_gap": null,
      "grid_row": null,
      "grid_template_areas": null,
      "grid_template_columns": null,
      "grid_template_rows": null,
      "height": null,
      "justify_content": null,
      "justify_items": null,
      "left": null,
      "margin": null,
      "max_height": null,
      "max_width": null,
      "min_height": null,
      "min_width": null,
      "object_fit": null,
      "object_position": null,
      "order": null,
      "overflow": null,
      "overflow_x": null,
      "overflow_y": null,
      "padding": null,
      "right": null,
      "top": null,
      "visibility": null,
      "width": null
     }
    },
    "8162357e8e104df2838d1e5b1899bbec": {
     "model_module": "@jupyter-widgets/controls",
     "model_module_version": "1.5.0",
     "model_name": "ProgressStyleModel",
     "state": {
      "_model_module": "@jupyter-widgets/controls",
      "_model_module_version": "1.5.0",
      "_model_name": "ProgressStyleModel",
      "_view_count": null,
      "_view_module": "@jupyter-widgets/base",
      "_view_module_version": "1.2.0",
      "_view_name": "StyleView",
      "bar_color": null,
      "description_width": ""
     }
    },
    "9034b1352a314bf1899d3ce712a27b51": {
     "model_module": "@jupyter-widgets/base",
     "model_module_version": "1.2.0",
     "model_name": "LayoutModel",
     "state": {
      "_model_module": "@jupyter-widgets/base",
      "_model_module_version": "1.2.0",
      "_model_name": "LayoutModel",
      "_view_count": null,
      "_view_module": "@jupyter-widgets/base",
      "_view_module_version": "1.2.0",
      "_view_name": "LayoutView",
      "align_content": null,
      "align_items": null,
      "align_self": null,
      "border": null,
      "bottom": null,
      "display": null,
      "flex": null,
      "flex_flow": null,
      "grid_area": null,
      "grid_auto_columns": null,
      "grid_auto_flow": null,
      "grid_auto_rows": null,
      "grid_column": null,
      "grid_gap": null,
      "grid_row": null,
      "grid_template_areas": null,
      "grid_template_columns": null,
      "grid_template_rows": null,
      "height": null,
      "justify_content": null,
      "justify_items": null,
      "left": null,
      "margin": null,
      "max_height": null,
      "max_width": null,
      "min_height": null,
      "min_width": null,
      "object_fit": null,
      "object_position": null,
      "order": null,
      "overflow": null,
      "overflow_x": null,
      "overflow_y": null,
      "padding": null,
      "right": null,
      "top": null,
      "visibility": null,
      "width": null
     }
    },
    "9c6c841f982b462285ae2503d20215ea": {
     "model_module": "@jupyter-widgets/controls",
     "model_module_version": "1.5.0",
     "model_name": "HBoxModel",
     "state": {
      "_dom_classes": [],
      "_model_module": "@jupyter-widgets/controls",
      "_model_module_version": "1.5.0",
      "_model_name": "HBoxModel",
      "_view_count": null,
      "_view_module": "@jupyter-widgets/controls",
      "_view_module_version": "1.5.0",
      "_view_name": "HBoxView",
      "box_style": "",
      "children": [
       "IPY_MODEL_12645c3cc1574d50be92ff42bee9031e",
       "IPY_MODEL_b0d47eddc9924df2b2be802deec035eb",
       "IPY_MODEL_e895ffb10bae42a2a2884a296b0de756"
      ],
      "layout": "IPY_MODEL_24b3509be66b44618158d669a2b45fe3"
     }
    },
    "b0d47eddc9924df2b2be802deec035eb": {
     "model_module": "@jupyter-widgets/controls",
     "model_module_version": "1.5.0",
     "model_name": "FloatProgressModel",
     "state": {
      "_dom_classes": [],
      "_model_module": "@jupyter-widgets/controls",
      "_model_module_version": "1.5.0",
      "_model_name": "FloatProgressModel",
      "_view_count": null,
      "_view_module": "@jupyter-widgets/controls",
      "_view_module_version": "1.5.0",
      "_view_name": "ProgressView",
      "bar_style": "danger",
      "description": "",
      "description_tooltip": null,
      "layout": "IPY_MODEL_ba520a87665a46f99ed57f9f993ad2b5",
      "max": 2,
      "min": 0,
      "orientation": "horizontal",
      "style": "IPY_MODEL_8162357e8e104df2838d1e5b1899bbec",
      "value": 0
     }
    },
    "ba520a87665a46f99ed57f9f993ad2b5": {
     "model_module": "@jupyter-widgets/base",
     "model_module_version": "1.2.0",
     "model_name": "LayoutModel",
     "state": {
      "_model_module": "@jupyter-widgets/base",
      "_model_module_version": "1.2.0",
      "_model_name": "LayoutModel",
      "_view_count": null,
      "_view_module": "@jupyter-widgets/base",
      "_view_module_version": "1.2.0",
      "_view_name": "LayoutView",
      "align_content": null,
      "align_items": null,
      "align_self": null,
      "border": null,
      "bottom": null,
      "display": null,
      "flex": "2",
      "flex_flow": null,
      "grid_area": null,
      "grid_auto_columns": null,
      "grid_auto_flow": null,
      "grid_auto_rows": null,
      "grid_column": null,
      "grid_gap": null,
      "grid_row": null,
      "grid_template_areas": null,
      "grid_template_columns": null,
      "grid_template_rows": null,
      "height": null,
      "justify_content": null,
      "justify_items": null,
      "left": null,
      "margin": null,
      "max_height": null,
      "max_width": null,
      "min_height": null,
      "min_width": null,
      "object_fit": null,
      "object_position": null,
      "order": null,
      "overflow": null,
      "overflow_x": null,
      "overflow_y": null,
      "padding": null,
      "right": null,
      "top": null,
      "visibility": null,
      "width": null
     }
    },
    "e14c3b49f2914777a5f7affb65c08571": {
     "model_module": "@jupyter-widgets/controls",
     "model_module_version": "1.5.0",
     "model_name": "FloatProgressModel",
     "state": {
      "_dom_classes": [],
      "_model_module": "@jupyter-widgets/controls",
      "_model_module_version": "1.5.0",
      "_model_name": "FloatProgressModel",
      "_view_count": null,
      "_view_module": "@jupyter-widgets/controls",
      "_view_module_version": "1.5.0",
      "_view_name": "ProgressView",
      "bar_style": "danger",
      "description": "",
      "description_tooltip": null,
      "layout": "IPY_MODEL_36e2d16e412046e590e53fe2ee0b15d1",
      "max": 50594,
      "min": 0,
      "orientation": "horizontal",
      "style": "IPY_MODEL_1e2aa15892224f4fa53b8f4686d1526f",
      "value": 90
     }
    },
    "e895ffb10bae42a2a2884a296b0de756": {
     "model_module": "@jupyter-widgets/controls",
     "model_module_version": "1.5.0",
     "model_name": "HTMLModel",
     "state": {
      "_dom_classes": [],
      "_model_module": "@jupyter-widgets/controls",
      "_model_module_version": "1.5.0",
      "_model_name": "HTMLModel",
      "_view_count": null,
      "_view_module": "@jupyter-widgets/controls",
      "_view_module_version": "1.5.0",
      "_view_name": "HTMLView",
      "description": "",
      "description_tooltip": null,
      "layout": "IPY_MODEL_747bda1714a643f9b6cb31ab523c3887",
      "placeholder": "​",
      "style": "IPY_MODEL_03e26d56cd714bfb869f777350c73776",
      "value": " 0/2 [00:06&lt;?, ?it/s]"
     }
    },
    "ed55bc6e0f884f9c9ea034c571ed8488": {
     "model_module": "@jupyter-widgets/controls",
     "model_module_version": "1.5.0",
     "model_name": "DescriptionStyleModel",
     "state": {
      "_model_module": "@jupyter-widgets/controls",
      "_model_module_version": "1.5.0",
      "_model_name": "DescriptionStyleModel",
      "_view_count": null,
      "_view_module": "@jupyter-widgets/base",
      "_view_module_version": "1.2.0",
      "_view_name": "StyleView",
      "description_width": ""
     }
    },
    "edfa3910f40c463ab4bb2c92c1a7a1c9": {
     "model_module": "@jupyter-widgets/controls",
     "model_module_version": "1.5.0",
     "model_name": "HTMLModel",
     "state": {
      "_dom_classes": [],
      "_model_module": "@jupyter-widgets/controls",
      "_model_module_version": "1.5.0",
      "_model_name": "HTMLModel",
      "_view_count": null,
      "_view_module": "@jupyter-widgets/controls",
      "_view_module_version": "1.5.0",
      "_view_name": "HTMLView",
      "description": "",
      "description_tooltip": null,
      "layout": "IPY_MODEL_9034b1352a314bf1899d3ce712a27b51",
      "placeholder": "​",
      "style": "IPY_MODEL_3f331cc3bfba4205ad8ee1a0371817f7",
      "value": " 90/50594 [01:52&lt;17:18:08,  1.23s/it, loss=3.2, v_num=0]"
     }
    },
    "f998509d191c4e55aa96bd6fdbd0f576": {
     "model_module": "@jupyter-widgets/base",
     "model_module_version": "1.2.0",
     "model_name": "LayoutModel",
     "state": {
      "_model_module": "@jupyter-widgets/base",
      "_model_module_version": "1.2.0",
      "_model_name": "LayoutModel",
      "_view_count": null,
      "_view_module": "@jupyter-widgets/base",
      "_view_module_version": "1.2.0",
      "_view_name": "LayoutView",
      "align_content": null,
      "align_items": null,
      "align_self": null,
      "border": null,
      "bottom": null,
      "display": null,
      "flex": null,
      "flex_flow": null,
      "grid_area": null,
      "grid_auto_columns": null,
      "grid_auto_flow": null,
      "grid_auto_rows": null,
      "grid_column": null,
      "grid_gap": null,
      "grid_row": null,
      "grid_template_areas": null,
      "grid_template_columns": null,
      "grid_template_rows": null,
      "height": null,
      "justify_content": null,
      "justify_items": null,
      "left": null,
      "margin": null,
      "max_height": null,
      "max_width": null,
      "min_height": null,
      "min_width": null,
      "object_fit": null,
      "object_position": null,
      "order": null,
      "overflow": null,
      "overflow_x": null,
      "overflow_y": null,
      "padding": null,
      "right": null,
      "top": null,
      "visibility": null,
      "width": null
     }
    }
   }
  }
 },
 "nbformat": 4,
 "nbformat_minor": 1
}
